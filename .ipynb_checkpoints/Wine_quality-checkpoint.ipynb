{
 "cells": [
  {
   "cell_type": "code",
   "execution_count": 1,
   "id": "2bf87420",
   "metadata": {},
   "outputs": [
    {
     "data": {
      "text/html": [
       "<style>#sk-container-id-1 {color: black;}#sk-container-id-1 pre{padding: 0;}#sk-container-id-1 div.sk-toggleable {background-color: white;}#sk-container-id-1 label.sk-toggleable__label {cursor: pointer;display: block;width: 100%;margin-bottom: 0;padding: 0.3em;box-sizing: border-box;text-align: center;}#sk-container-id-1 label.sk-toggleable__label-arrow:before {content: \"▸\";float: left;margin-right: 0.25em;color: #696969;}#sk-container-id-1 label.sk-toggleable__label-arrow:hover:before {color: black;}#sk-container-id-1 div.sk-estimator:hover label.sk-toggleable__label-arrow:before {color: black;}#sk-container-id-1 div.sk-toggleable__content {max-height: 0;max-width: 0;overflow: hidden;text-align: left;background-color: #f0f8ff;}#sk-container-id-1 div.sk-toggleable__content pre {margin: 0.2em;color: black;border-radius: 0.25em;background-color: #f0f8ff;}#sk-container-id-1 input.sk-toggleable__control:checked~div.sk-toggleable__content {max-height: 200px;max-width: 100%;overflow: auto;}#sk-container-id-1 input.sk-toggleable__control:checked~label.sk-toggleable__label-arrow:before {content: \"▾\";}#sk-container-id-1 div.sk-estimator input.sk-toggleable__control:checked~label.sk-toggleable__label {background-color: #d4ebff;}#sk-container-id-1 div.sk-label input.sk-toggleable__control:checked~label.sk-toggleable__label {background-color: #d4ebff;}#sk-container-id-1 input.sk-hidden--visually {border: 0;clip: rect(1px 1px 1px 1px);clip: rect(1px, 1px, 1px, 1px);height: 1px;margin: -1px;overflow: hidden;padding: 0;position: absolute;width: 1px;}#sk-container-id-1 div.sk-estimator {font-family: monospace;background-color: #f0f8ff;border: 1px dotted black;border-radius: 0.25em;box-sizing: border-box;margin-bottom: 0.5em;}#sk-container-id-1 div.sk-estimator:hover {background-color: #d4ebff;}#sk-container-id-1 div.sk-parallel-item::after {content: \"\";width: 100%;border-bottom: 1px solid gray;flex-grow: 1;}#sk-container-id-1 div.sk-label:hover label.sk-toggleable__label {background-color: #d4ebff;}#sk-container-id-1 div.sk-serial::before {content: \"\";position: absolute;border-left: 1px solid gray;box-sizing: border-box;top: 0;bottom: 0;left: 50%;z-index: 0;}#sk-container-id-1 div.sk-serial {display: flex;flex-direction: column;align-items: center;background-color: white;padding-right: 0.2em;padding-left: 0.2em;position: relative;}#sk-container-id-1 div.sk-item {position: relative;z-index: 1;}#sk-container-id-1 div.sk-parallel {display: flex;align-items: stretch;justify-content: center;background-color: white;position: relative;}#sk-container-id-1 div.sk-item::before, #sk-container-id-1 div.sk-parallel-item::before {content: \"\";position: absolute;border-left: 1px solid gray;box-sizing: border-box;top: 0;bottom: 0;left: 50%;z-index: -1;}#sk-container-id-1 div.sk-parallel-item {display: flex;flex-direction: column;z-index: 1;position: relative;background-color: white;}#sk-container-id-1 div.sk-parallel-item:first-child::after {align-self: flex-end;width: 50%;}#sk-container-id-1 div.sk-parallel-item:last-child::after {align-self: flex-start;width: 50%;}#sk-container-id-1 div.sk-parallel-item:only-child::after {width: 0;}#sk-container-id-1 div.sk-dashed-wrapped {border: 1px dashed gray;margin: 0 0.4em 0.5em 0.4em;box-sizing: border-box;padding-bottom: 0.4em;background-color: white;}#sk-container-id-1 div.sk-label label {font-family: monospace;font-weight: bold;display: inline-block;line-height: 1.2em;}#sk-container-id-1 div.sk-label-container {text-align: center;}#sk-container-id-1 div.sk-container {/* jupyter's `normalize.less` sets `[hidden] { display: none; }` but bootstrap.min.css set `[hidden] { display: none !important; }` so we also need the `!important` here to be able to override the default hidden behavior on the sphinx rendered scikit-learn.org. See: https://github.com/scikit-learn/scikit-learn/issues/21755 */display: inline-block !important;position: relative;}#sk-container-id-1 div.sk-text-repr-fallback {display: none;}</style><div id=\"sk-container-id-1\" class=\"sk-top-container\"><div class=\"sk-text-repr-fallback\"><pre>RandomForestRegressor(random_state=42)</pre><b>In a Jupyter environment, please rerun this cell to show the HTML representation or trust the notebook. <br />On GitHub, the HTML representation is unable to render, please try loading this page with nbviewer.org.</b></div><div class=\"sk-container\" hidden><div class=\"sk-item\"><div class=\"sk-estimator sk-toggleable\"><input class=\"sk-toggleable__control sk-hidden--visually\" id=\"sk-estimator-id-1\" type=\"checkbox\" checked><label for=\"sk-estimator-id-1\" class=\"sk-toggleable__label sk-toggleable__label-arrow\">RandomForestRegressor</label><div class=\"sk-toggleable__content\"><pre>RandomForestRegressor(random_state=42)</pre></div></div></div></div></div>"
      ],
      "text/plain": [
       "RandomForestRegressor(random_state=42)"
      ]
     },
     "execution_count": 1,
     "metadata": {},
     "output_type": "execute_result"
    }
   ],
   "source": [
    "import pandas as pd\n",
    "from sklearn.ensemble import RandomForestRegressor\n",
    "\n",
    "# Load data\n",
    "#data = pd.read_csv(\"/content/gdrive/MyDrive/winequality-white.csv\", sep=\";\")\n",
    "data1 = pd.read_csv(\"winequality-white.csv\", sep=\";\")\n",
    "data2 = pd.read_csv(\"winequality-red.csv\", sep=\";\")\n",
    "data = pd.concat([data1, data2], axis=0)\n",
    "\n",
    "X = data.drop(\"quality\", axis=1)\n",
    "y = data[\"quality\"]  # Target variable\n",
    "\n",
    "# Define Random Forest Regression model\n",
    "model = RandomForestRegressor(n_estimators=100, random_state=42)  # Set number of trees (n_estimators)\n",
    "\n",
    "# Train the model\n",
    "model.fit(X, y)\n",
    "\n",
    "# Define a function to predict wine quality\n",
    "def predict_quality(fixed_acidity, volatile_acidity, citric_acid, residual_sugar,\n",
    "                    chlorides, free_sulfur_dioxide, total_sulfur_dioxide, density,\n",
    "                    ph, sulphates, alcohol):\n",
    "    new_data = pd.DataFrame({\n",
    "        \"fixed acidity\": [fixed_acidity],\n",
    "        \"volatile acidity\": [volatile_acidity],\n",
    "        \"citric acid\": [citric acid],\n",
    "        \"residual sugar\": [residual_sugar],\n",
    "        \"chlorides\": [chlorides],\n",
    "        \"free sulfur dioxide\": [free_sulfur_dioxide],\n",
    "        \"total sulfur dioxide\": [total_sulfur_dioxide],\n",
    "        \"density\": [density],\n",
    "        \"pH\": [ph],\n",
    "        \"sulphates\": [sulphates],\n",
    "        \"alcohol\": [alcohol]\n",
    "    })\n",
    "    prediction = model.predict(new_data)[0]\n",
    "    return prediction\n",
    "\n",
    "# Build the Streamlit app\n",
    "import streamlit as st\n",
    "\n",
    "st.title(\"Wine Quality Prediction App\")\n",
    "\n",
    "fixed_acidity = st.number_input(\"Fixed Acidity\", min_value=0.0, max_value=16.0)\n",
    "volatile_acidity = st.number_input(\"Volatile Acidity\", min_value=0.0, max_value=1.5)\n",
    "citric_acid = st.number_input(\"Citric Acid\", min_value=0.0, max_value=1.0)\n",
    "residual_sugar = st.number_input(\"Residual Sugar\", min_value=0.0, max_value=15.0)\n",
    "chlorides = st.number_input(\"Chlorides\", min_value=0.0, max_value=0.6)\n",
    "free_sulfur_dioxide = st.number_input(\"Free Sulfur Dioxide\", min_value=0.0, max_value=200.0)\n",
    "total_sulfur_dioxide = st.number_input(\"Total Sulfur Dioxide\", min_value=0.0, max_value=400.0)\n",
    "density = st.number_input(\"Density\", min_value=0.980, max_value=1.000)\n",
    "ph = st.number_input(\"pH\", min_value=3.0, max_value=4.0)\n",
    "sulphates = st.number_input(\"Sulphates\", min_value=0.0, max_value=2.0)\n",
    "alcohol = st.number_input(\"Alcohol\", min_value=8.0, max_value=14.0)\n",
    "\n",
    "if st.button(\"Predict Wine Quality\"):\n",
    "    prediction = predict_quality(fixed_acidity, volatile_acidity, citric_acid, residual_sugar, chlorides, free_sulfur_dioxide, total_sulfur_dioxide, density, ph, sulphates, alcohol)\n"
   ]
  },
  {
   "cell_type": "code",
   "execution_count": null,
   "id": "de78462b",
   "metadata": {},
   "outputs": [],
   "source": []
  },
  {
   "cell_type": "code",
   "execution_count": null,
   "id": "55d9bfe6",
   "metadata": {},
   "outputs": [],
   "source": []
  },
  {
   "cell_type": "code",
   "execution_count": null,
   "id": "fe475e57",
   "metadata": {},
   "outputs": [],
   "source": []
  }
 ],
 "metadata": {
  "kernelspec": {
   "display_name": "Python 3 (ipykernel)",
   "language": "python",
   "name": "python3"
  },
  "language_info": {
   "codemirror_mode": {
    "name": "ipython",
    "version": 3
   },
   "file_extension": ".py",
   "mimetype": "text/x-python",
   "name": "python",
   "nbconvert_exporter": "python",
   "pygments_lexer": "ipython3",
   "version": "3.11.5"
  }
 },
 "nbformat": 4,
 "nbformat_minor": 5
}
